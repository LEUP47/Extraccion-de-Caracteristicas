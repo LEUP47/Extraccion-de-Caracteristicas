{
 "cells": [
  {
   "cell_type": "code",
   "execution_count": 2,
   "metadata": {},
   "outputs": [],
   "source": [
    "import funpymodeling\n",
    "import pandas as pd\n",
    "import numpy as np\n",
    "import matplotlib.pyplot as plt\n",
    "import seaborn as sns\n",
    "from funpymodeling.exploratory import freq_tbl"
   ]
  },
  {
   "cell_type": "code",
   "execution_count": 3,
   "metadata": {},
   "outputs": [],
   "source": [
    "mr2=pd.read_csv(\"mr2.csv\")"
   ]
  },
  {
   "cell_type": "code",
   "execution_count": 4,
   "metadata": {},
   "outputs": [
    {
     "data": {
      "text/html": [
       "<div>\n",
       "<style scoped>\n",
       "    .dataframe tbody tr th:only-of-type {\n",
       "        vertical-align: middle;\n",
       "    }\n",
       "\n",
       "    .dataframe tbody tr th {\n",
       "        vertical-align: top;\n",
       "    }\n",
       "\n",
       "    .dataframe thead th {\n",
       "        text-align: right;\n",
       "    }\n",
       "</style>\n",
       "<table border=\"1\" class=\"dataframe\">\n",
       "  <thead>\n",
       "    <tr style=\"text-align: right;\">\n",
       "      <th></th>\n",
       "      <th>58_willingness_share_sales_data_mse</th>\n",
       "      <th>frequency</th>\n",
       "      <th>percentage</th>\n",
       "      <th>cumulative_perc</th>\n",
       "    </tr>\n",
       "  </thead>\n",
       "  <tbody>\n",
       "    <tr>\n",
       "      <th>0</th>\n",
       "      <td>Totalmente en desacuerdo</td>\n",
       "      <td>89</td>\n",
       "      <td>0.520468</td>\n",
       "      <td>0.520468</td>\n",
       "    </tr>\n",
       "    <tr>\n",
       "      <th>1</th>\n",
       "      <td>Algo en desacuerdo</td>\n",
       "      <td>27</td>\n",
       "      <td>0.157895</td>\n",
       "      <td>0.678363</td>\n",
       "    </tr>\n",
       "    <tr>\n",
       "      <th>2</th>\n",
       "      <td>Algo de acuerdo</td>\n",
       "      <td>18</td>\n",
       "      <td>0.105263</td>\n",
       "      <td>0.783626</td>\n",
       "    </tr>\n",
       "    <tr>\n",
       "      <th>3</th>\n",
       "      <td>Totalmente de acuerdo</td>\n",
       "      <td>16</td>\n",
       "      <td>0.093567</td>\n",
       "      <td>0.877193</td>\n",
       "    </tr>\n",
       "    <tr>\n",
       "      <th>4</th>\n",
       "      <td>Ni de acuerdo ni en desacuerdo</td>\n",
       "      <td>16</td>\n",
       "      <td>0.093567</td>\n",
       "      <td>0.970760</td>\n",
       "    </tr>\n",
       "    <tr>\n",
       "      <th>5</th>\n",
       "      <td>0</td>\n",
       "      <td>5</td>\n",
       "      <td>0.029240</td>\n",
       "      <td>1.000000</td>\n",
       "    </tr>\n",
       "  </tbody>\n",
       "</table>\n",
       "</div>"
      ],
      "text/plain": [
       "  58_willingness_share_sales_data_mse  frequency  percentage  cumulative_perc\n",
       "0            Totalmente en desacuerdo         89    0.520468         0.520468\n",
       "1                  Algo en desacuerdo         27    0.157895         0.678363\n",
       "2                     Algo de acuerdo         18    0.105263         0.783626\n",
       "3               Totalmente de acuerdo         16    0.093567         0.877193\n",
       "4      Ni de acuerdo ni en desacuerdo         16    0.093567         0.970760\n",
       "5                                   0          5    0.029240         1.000000"
      ]
     },
     "execution_count": 4,
     "metadata": {},
     "output_type": "execute_result"
    }
   ],
   "source": [
    "table1=freq_tbl(mr2['58_willingness_share_sales_data_mse'])\n",
    "table1"
   ]
  },
  {
   "cell_type": "code",
   "execution_count": 5,
   "metadata": {},
   "outputs": [
    {
     "data": {
      "text/html": [
       "<div>\n",
       "<style scoped>\n",
       "    .dataframe tbody tr th:only-of-type {\n",
       "        vertical-align: middle;\n",
       "    }\n",
       "\n",
       "    .dataframe tbody tr th {\n",
       "        vertical-align: top;\n",
       "    }\n",
       "\n",
       "    .dataframe thead th {\n",
       "        text-align: right;\n",
       "    }\n",
       "</style>\n",
       "<table border=\"1\" class=\"dataframe\">\n",
       "  <thead>\n",
       "    <tr style=\"text-align: right;\">\n",
       "      <th></th>\n",
       "      <th>58_willingness_share_sales_data_mse</th>\n",
       "      <th>frequency</th>\n",
       "      <th>percentage</th>\n",
       "      <th>cumulative_perc</th>\n",
       "    </tr>\n",
       "  </thead>\n",
       "  <tbody>\n",
       "    <tr>\n",
       "      <th>0</th>\n",
       "      <td>Totalmente en desacuerdo</td>\n",
       "      <td>89</td>\n",
       "      <td>0.520468</td>\n",
       "      <td>0.520468</td>\n",
       "    </tr>\n",
       "    <tr>\n",
       "      <th>1</th>\n",
       "      <td>Algo en desacuerdo</td>\n",
       "      <td>27</td>\n",
       "      <td>0.157895</td>\n",
       "      <td>0.678363</td>\n",
       "    </tr>\n",
       "    <tr>\n",
       "      <th>2</th>\n",
       "      <td>Algo de acuerdo</td>\n",
       "      <td>18</td>\n",
       "      <td>0.105263</td>\n",
       "      <td>0.783626</td>\n",
       "    </tr>\n",
       "    <tr>\n",
       "      <th>3</th>\n",
       "      <td>Totalmente de acuerdo</td>\n",
       "      <td>16</td>\n",
       "      <td>0.093567</td>\n",
       "      <td>0.877193</td>\n",
       "    </tr>\n",
       "    <tr>\n",
       "      <th>4</th>\n",
       "      <td>Ni de acuerdo ni en desacuerdo</td>\n",
       "      <td>16</td>\n",
       "      <td>0.093567</td>\n",
       "      <td>0.970760</td>\n",
       "    </tr>\n",
       "  </tbody>\n",
       "</table>\n",
       "</div>"
      ],
      "text/plain": [
       "  58_willingness_share_sales_data_mse  frequency  percentage  cumulative_perc\n",
       "0            Totalmente en desacuerdo         89    0.520468         0.520468\n",
       "1                  Algo en desacuerdo         27    0.157895         0.678363\n",
       "2                     Algo de acuerdo         18    0.105263         0.783626\n",
       "3               Totalmente de acuerdo         16    0.093567         0.877193\n",
       "4      Ni de acuerdo ni en desacuerdo         16    0.093567         0.970760"
      ]
     },
     "execution_count": 5,
     "metadata": {},
     "output_type": "execute_result"
    }
   ],
   "source": [
    "filtro1=table1[table1['frequency']>5]\n",
    "filtro1"
   ]
  },
  {
   "cell_type": "code",
   "execution_count": 6,
   "metadata": {},
   "outputs": [
    {
     "data": {
      "text/html": [
       "<div>\n",
       "<style scoped>\n",
       "    .dataframe tbody tr th:only-of-type {\n",
       "        vertical-align: middle;\n",
       "    }\n",
       "\n",
       "    .dataframe tbody tr th {\n",
       "        vertical-align: top;\n",
       "    }\n",
       "\n",
       "    .dataframe thead th {\n",
       "        text-align: right;\n",
       "    }\n",
       "</style>\n",
       "<table border=\"1\" class=\"dataframe\">\n",
       "  <thead>\n",
       "    <tr style=\"text-align: right;\">\n",
       "      <th></th>\n",
       "      <th>frequency</th>\n",
       "      <th>percentage</th>\n",
       "      <th>cumulative_perc</th>\n",
       "    </tr>\n",
       "    <tr>\n",
       "      <th>58_willingness_share_sales_data_mse</th>\n",
       "      <th></th>\n",
       "      <th></th>\n",
       "      <th></th>\n",
       "    </tr>\n",
       "  </thead>\n",
       "  <tbody>\n",
       "    <tr>\n",
       "      <th>Totalmente en desacuerdo</th>\n",
       "      <td>89</td>\n",
       "      <td>0.520468</td>\n",
       "      <td>0.520468</td>\n",
       "    </tr>\n",
       "    <tr>\n",
       "      <th>Algo en desacuerdo</th>\n",
       "      <td>27</td>\n",
       "      <td>0.157895</td>\n",
       "      <td>0.678363</td>\n",
       "    </tr>\n",
       "    <tr>\n",
       "      <th>Algo de acuerdo</th>\n",
       "      <td>18</td>\n",
       "      <td>0.105263</td>\n",
       "      <td>0.783626</td>\n",
       "    </tr>\n",
       "    <tr>\n",
       "      <th>Totalmente de acuerdo</th>\n",
       "      <td>16</td>\n",
       "      <td>0.093567</td>\n",
       "      <td>0.877193</td>\n",
       "    </tr>\n",
       "    <tr>\n",
       "      <th>Ni de acuerdo ni en desacuerdo</th>\n",
       "      <td>16</td>\n",
       "      <td>0.093567</td>\n",
       "      <td>0.970760</td>\n",
       "    </tr>\n",
       "  </tbody>\n",
       "</table>\n",
       "</div>"
      ],
      "text/plain": [
       "                                     frequency  percentage  cumulative_perc\n",
       "58_willingness_share_sales_data_mse                                        \n",
       "Totalmente en desacuerdo                    89    0.520468         0.520468\n",
       "Algo en desacuerdo                          27    0.157895         0.678363\n",
       "Algo de acuerdo                             18    0.105263         0.783626\n",
       "Totalmente de acuerdo                       16    0.093567         0.877193\n",
       "Ni de acuerdo ni en desacuerdo              16    0.093567         0.970760"
      ]
     },
     "execution_count": 6,
     "metadata": {},
     "output_type": "execute_result"
    }
   ],
   "source": [
    "filtro_index=filtro1.set_index('58_willingness_share_sales_data_mse')\n",
    "filtro_index"
   ]
  },
  {
   "cell_type": "code",
   "execution_count": 7,
   "metadata": {},
   "outputs": [
    {
     "data": {
      "text/html": [
       "<div>\n",
       "<style scoped>\n",
       "    .dataframe tbody tr th:only-of-type {\n",
       "        vertical-align: middle;\n",
       "    }\n",
       "\n",
       "    .dataframe tbody tr th {\n",
       "        vertical-align: top;\n",
       "    }\n",
       "\n",
       "    .dataframe thead th {\n",
       "        text-align: right;\n",
       "    }\n",
       "</style>\n",
       "<table border=\"1\" class=\"dataframe\">\n",
       "  <thead>\n",
       "    <tr style=\"text-align: right;\">\n",
       "      <th></th>\n",
       "      <th>frequency</th>\n",
       "    </tr>\n",
       "    <tr>\n",
       "      <th>58_willingness_share_sales_data_mse</th>\n",
       "      <th></th>\n",
       "    </tr>\n",
       "  </thead>\n",
       "  <tbody>\n",
       "    <tr>\n",
       "      <th>Totalmente en desacuerdo</th>\n",
       "      <td>89</td>\n",
       "    </tr>\n",
       "    <tr>\n",
       "      <th>Algo en desacuerdo</th>\n",
       "      <td>27</td>\n",
       "    </tr>\n",
       "    <tr>\n",
       "      <th>Algo de acuerdo</th>\n",
       "      <td>18</td>\n",
       "    </tr>\n",
       "    <tr>\n",
       "      <th>Totalmente de acuerdo</th>\n",
       "      <td>16</td>\n",
       "    </tr>\n",
       "    <tr>\n",
       "      <th>Ni de acuerdo ni en desacuerdo</th>\n",
       "      <td>16</td>\n",
       "    </tr>\n",
       "  </tbody>\n",
       "</table>\n",
       "</div>"
      ],
      "text/plain": [
       "                                     frequency\n",
       "58_willingness_share_sales_data_mse           \n",
       "Totalmente en desacuerdo                    89\n",
       "Algo en desacuerdo                          27\n",
       "Algo de acuerdo                             18\n",
       "Totalmente de acuerdo                       16\n",
       "Ni de acuerdo ni en desacuerdo              16"
      ]
     },
     "execution_count": 7,
     "metadata": {},
     "output_type": "execute_result"
    }
   ],
   "source": [
    "filtro_index_frequency=filtro_index.drop(['percentage','cumulative_perc'],axis=1)\n",
    "filtro_index_frequency"
   ]
  },
  {
   "cell_type": "code",
   "execution_count": 9,
   "metadata": {},
   "outputs": [
    {
     "data": {
      "text/plain": [
       "<Axes: ylabel='frequency'>"
      ]
     },
     "execution_count": 9,
     "metadata": {},
     "output_type": "execute_result"
    },
    {
     "data": {
      "image/png": "[encoded data removed]",
      "text/plain": [
       "<Figure size 1000x500 with 1 Axes>"
      ]
     },
     "metadata": {},
     "output_type": "display_data"
    }
   ],
   "source": [
    "#Realizamos grafico de pastel del dataframe filtrado\n",
    "filtro_index[\"frequency\"].plot(kind='pie', figsize=(10,5),  autopct=\"%0.1f%%\")"
   ]
  },
  {
   "cell_type": "code",
   "execution_count": null,
   "metadata": {},
   "outputs": [],
   "source": []
  }
 ],
 "metadata": {
  "kernelspec": {
   "display_name": "Python 3",
   "language": "python",
   "name": "python3"
  },
  "language_info": {
   "codemirror_mode": {
    "name": "ipython",
    "version": 3
   },
   "file_extension": ".py",
   "mimetype": "text/x-python",
   "name": "python",
   "nbconvert_exporter": "python",
   "pygments_lexer": "ipython3",
   "version": "3.12.4"
  }
 },
 "nbformat": 4,
 "nbformat_minor": 2
}
