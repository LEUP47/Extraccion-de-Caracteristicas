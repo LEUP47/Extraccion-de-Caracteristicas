{
 "cells": [
  {
   "cell_type": "code",
   "execution_count": 2,
   "metadata": {},
   "outputs": [],
   "source": [
    "import funpymodeling\n",
    "import pandas as pd\n",
    "import numpy as np\n",
    "import matplotlib.pyplot as plt\n",
    "import seaborn as sns\n",
    "from funpymodeling.exploratory import freq_tbl"
   ]
  },
  {
   "cell_type": "code",
   "execution_count": 3,
   "metadata": {},
   "outputs": [],
   "source": [
    "mr2=pd.read_csv(\"mr2.csv\")"
   ]
  },
  {
   "cell_type": "code",
   "execution_count": 4,
   "metadata": {},
   "outputs": [
    {
     "data": {
      "text/html": [
       "<div>\n",
       "<style scoped>\n",
       "    .dataframe tbody tr th:only-of-type {\n",
       "        vertical-align: middle;\n",
       "    }\n",
       "\n",
       "    .dataframe tbody tr th {\n",
       "        vertical-align: top;\n",
       "    }\n",
       "\n",
       "    .dataframe thead th {\n",
       "        text-align: right;\n",
       "    }\n",
       "</style>\n",
       "<table border=\"1\" class=\"dataframe\">\n",
       "  <thead>\n",
       "    <tr style=\"text-align: right;\">\n",
       "      <th></th>\n",
       "      <th>189_payment_methods</th>\n",
       "      <th>frequency</th>\n",
       "      <th>percentage</th>\n",
       "      <th>cumulative_perc</th>\n",
       "    </tr>\n",
       "  </thead>\n",
       "  <tbody>\n",
       "    <tr>\n",
       "      <th>0</th>\n",
       "      <td>Efectivo</td>\n",
       "      <td>64</td>\n",
       "      <td>0.374269</td>\n",
       "      <td>0.374269</td>\n",
       "    </tr>\n",
       "    <tr>\n",
       "      <th>1</th>\n",
       "      <td>Efectivo,Tarjeta de débito y/o crédito,Transfe...</td>\n",
       "      <td>49</td>\n",
       "      <td>0.286550</td>\n",
       "      <td>0.660819</td>\n",
       "    </tr>\n",
       "    <tr>\n",
       "      <th>2</th>\n",
       "      <td>Efectivo,Tarjeta de débito y/o crédito</td>\n",
       "      <td>30</td>\n",
       "      <td>0.175439</td>\n",
       "      <td>0.836257</td>\n",
       "    </tr>\n",
       "    <tr>\n",
       "      <th>3</th>\n",
       "      <td>Efectivo,Transferencia interbancaria</td>\n",
       "      <td>20</td>\n",
       "      <td>0.116959</td>\n",
       "      <td>0.953216</td>\n",
       "    </tr>\n",
       "    <tr>\n",
       "      <th>4</th>\n",
       "      <td>0</td>\n",
       "      <td>5</td>\n",
       "      <td>0.029240</td>\n",
       "      <td>0.982456</td>\n",
       "    </tr>\n",
       "    <tr>\n",
       "      <th>5</th>\n",
       "      <td>Aplicación móvil (e.g. CODI),Efectivo,Tarjeta ...</td>\n",
       "      <td>1</td>\n",
       "      <td>0.005848</td>\n",
       "      <td>0.988304</td>\n",
       "    </tr>\n",
       "    <tr>\n",
       "      <th>6</th>\n",
       "      <td>Aplicación móvil (e.g. CODI),Efectivo,Tarjeta ...</td>\n",
       "      <td>1</td>\n",
       "      <td>0.005848</td>\n",
       "      <td>0.994152</td>\n",
       "    </tr>\n",
       "    <tr>\n",
       "      <th>7</th>\n",
       "      <td>Tarjeta de débito y/o crédito</td>\n",
       "      <td>1</td>\n",
       "      <td>0.005848</td>\n",
       "      <td>1.000000</td>\n",
       "    </tr>\n",
       "  </tbody>\n",
       "</table>\n",
       "</div>"
      ],
      "text/plain": [
       "                                 189_payment_methods  frequency  percentage  \\\n",
       "0                                           Efectivo         64    0.374269   \n",
       "1  Efectivo,Tarjeta de débito y/o crédito,Transfe...         49    0.286550   \n",
       "2             Efectivo,Tarjeta de débito y/o crédito         30    0.175439   \n",
       "3               Efectivo,Transferencia interbancaria         20    0.116959   \n",
       "4                                                  0          5    0.029240   \n",
       "5  Aplicación móvil (e.g. CODI),Efectivo,Tarjeta ...          1    0.005848   \n",
       "6  Aplicación móvil (e.g. CODI),Efectivo,Tarjeta ...          1    0.005848   \n",
       "7                      Tarjeta de débito y/o crédito          1    0.005848   \n",
       "\n",
       "   cumulative_perc  \n",
       "0         0.374269  \n",
       "1         0.660819  \n",
       "2         0.836257  \n",
       "3         0.953216  \n",
       "4         0.982456  \n",
       "5         0.988304  \n",
       "6         0.994152  \n",
       "7         1.000000  "
      ]
     },
     "execution_count": 4,
     "metadata": {},
     "output_type": "execute_result"
    }
   ],
   "source": [
    "table1=freq_tbl(mr2['189_payment_methods'])\n",
    "table1"
   ]
  },
  {
   "cell_type": "code",
   "execution_count": 5,
   "metadata": {},
   "outputs": [
    {
     "data": {
      "text/html": [
       "<div>\n",
       "<style scoped>\n",
       "    .dataframe tbody tr th:only-of-type {\n",
       "        vertical-align: middle;\n",
       "    }\n",
       "\n",
       "    .dataframe tbody tr th {\n",
       "        vertical-align: top;\n",
       "    }\n",
       "\n",
       "    .dataframe thead th {\n",
       "        text-align: right;\n",
       "    }\n",
       "</style>\n",
       "<table border=\"1\" class=\"dataframe\">\n",
       "  <thead>\n",
       "    <tr style=\"text-align: right;\">\n",
       "      <th></th>\n",
       "      <th>189_payment_methods</th>\n",
       "      <th>frequency</th>\n",
       "      <th>percentage</th>\n",
       "      <th>cumulative_perc</th>\n",
       "    </tr>\n",
       "  </thead>\n",
       "  <tbody>\n",
       "    <tr>\n",
       "      <th>0</th>\n",
       "      <td>Efectivo</td>\n",
       "      <td>64</td>\n",
       "      <td>0.374269</td>\n",
       "      <td>0.374269</td>\n",
       "    </tr>\n",
       "    <tr>\n",
       "      <th>1</th>\n",
       "      <td>Efectivo,Tarjeta de débito y/o crédito,Transfe...</td>\n",
       "      <td>49</td>\n",
       "      <td>0.286550</td>\n",
       "      <td>0.660819</td>\n",
       "    </tr>\n",
       "    <tr>\n",
       "      <th>2</th>\n",
       "      <td>Efectivo,Tarjeta de débito y/o crédito</td>\n",
       "      <td>30</td>\n",
       "      <td>0.175439</td>\n",
       "      <td>0.836257</td>\n",
       "    </tr>\n",
       "    <tr>\n",
       "      <th>3</th>\n",
       "      <td>Efectivo,Transferencia interbancaria</td>\n",
       "      <td>20</td>\n",
       "      <td>0.116959</td>\n",
       "      <td>0.953216</td>\n",
       "    </tr>\n",
       "  </tbody>\n",
       "</table>\n",
       "</div>"
      ],
      "text/plain": [
       "                                 189_payment_methods  frequency  percentage  \\\n",
       "0                                           Efectivo         64    0.374269   \n",
       "1  Efectivo,Tarjeta de débito y/o crédito,Transfe...         49    0.286550   \n",
       "2             Efectivo,Tarjeta de débito y/o crédito         30    0.175439   \n",
       "3               Efectivo,Transferencia interbancaria         20    0.116959   \n",
       "\n",
       "   cumulative_perc  \n",
       "0         0.374269  \n",
       "1         0.660819  \n",
       "2         0.836257  \n",
       "3         0.953216  "
      ]
     },
     "execution_count": 5,
     "metadata": {},
     "output_type": "execute_result"
    }
   ],
   "source": [
    "filtro1=table1[table1['frequency']>5]\n",
    "filtro1"
   ]
  },
  {
   "cell_type": "code",
   "execution_count": 6,
   "metadata": {},
   "outputs": [
    {
     "data": {
      "text/html": [
       "<div>\n",
       "<style scoped>\n",
       "    .dataframe tbody tr th:only-of-type {\n",
       "        vertical-align: middle;\n",
       "    }\n",
       "\n",
       "    .dataframe tbody tr th {\n",
       "        vertical-align: top;\n",
       "    }\n",
       "\n",
       "    .dataframe thead th {\n",
       "        text-align: right;\n",
       "    }\n",
       "</style>\n",
       "<table border=\"1\" class=\"dataframe\">\n",
       "  <thead>\n",
       "    <tr style=\"text-align: right;\">\n",
       "      <th></th>\n",
       "      <th>frequency</th>\n",
       "      <th>percentage</th>\n",
       "      <th>cumulative_perc</th>\n",
       "    </tr>\n",
       "    <tr>\n",
       "      <th>189_payment_methods</th>\n",
       "      <th></th>\n",
       "      <th></th>\n",
       "      <th></th>\n",
       "    </tr>\n",
       "  </thead>\n",
       "  <tbody>\n",
       "    <tr>\n",
       "      <th>Efectivo</th>\n",
       "      <td>64</td>\n",
       "      <td>0.374269</td>\n",
       "      <td>0.374269</td>\n",
       "    </tr>\n",
       "    <tr>\n",
       "      <th>Efectivo,Tarjeta de débito y/o crédito,Transferencia interbancaria</th>\n",
       "      <td>49</td>\n",
       "      <td>0.286550</td>\n",
       "      <td>0.660819</td>\n",
       "    </tr>\n",
       "    <tr>\n",
       "      <th>Efectivo,Tarjeta de débito y/o crédito</th>\n",
       "      <td>30</td>\n",
       "      <td>0.175439</td>\n",
       "      <td>0.836257</td>\n",
       "    </tr>\n",
       "    <tr>\n",
       "      <th>Efectivo,Transferencia interbancaria</th>\n",
       "      <td>20</td>\n",
       "      <td>0.116959</td>\n",
       "      <td>0.953216</td>\n",
       "    </tr>\n",
       "  </tbody>\n",
       "</table>\n",
       "</div>"
      ],
      "text/plain": [
       "                                                    frequency  percentage  \\\n",
       "189_payment_methods                                                         \n",
       "Efectivo                                                   64    0.374269   \n",
       "Efectivo,Tarjeta de débito y/o crédito,Transfer...         49    0.286550   \n",
       "Efectivo,Tarjeta de débito y/o crédito                     30    0.175439   \n",
       "Efectivo,Transferencia interbancaria                       20    0.116959   \n",
       "\n",
       "                                                    cumulative_perc  \n",
       "189_payment_methods                                                  \n",
       "Efectivo                                                   0.374269  \n",
       "Efectivo,Tarjeta de débito y/o crédito,Transfer...         0.660819  \n",
       "Efectivo,Tarjeta de débito y/o crédito                     0.836257  \n",
       "Efectivo,Transferencia interbancaria                       0.953216  "
      ]
     },
     "execution_count": 6,
     "metadata": {},
     "output_type": "execute_result"
    }
   ],
   "source": [
    "filtro_index=filtro1.set_index('189_payment_methods')\n",
    "filtro_index"
   ]
  },
  {
   "cell_type": "code",
   "execution_count": 7,
   "metadata": {},
   "outputs": [
    {
     "data": {
      "text/html": [
       "<div>\n",
       "<style scoped>\n",
       "    .dataframe tbody tr th:only-of-type {\n",
       "        vertical-align: middle;\n",
       "    }\n",
       "\n",
       "    .dataframe tbody tr th {\n",
       "        vertical-align: top;\n",
       "    }\n",
       "\n",
       "    .dataframe thead th {\n",
       "        text-align: right;\n",
       "    }\n",
       "</style>\n",
       "<table border=\"1\" class=\"dataframe\">\n",
       "  <thead>\n",
       "    <tr style=\"text-align: right;\">\n",
       "      <th></th>\n",
       "      <th>frequency</th>\n",
       "    </tr>\n",
       "    <tr>\n",
       "      <th>189_payment_methods</th>\n",
       "      <th></th>\n",
       "    </tr>\n",
       "  </thead>\n",
       "  <tbody>\n",
       "    <tr>\n",
       "      <th>Efectivo</th>\n",
       "      <td>64</td>\n",
       "    </tr>\n",
       "    <tr>\n",
       "      <th>Efectivo,Tarjeta de débito y/o crédito,Transferencia interbancaria</th>\n",
       "      <td>49</td>\n",
       "    </tr>\n",
       "    <tr>\n",
       "      <th>Efectivo,Tarjeta de débito y/o crédito</th>\n",
       "      <td>30</td>\n",
       "    </tr>\n",
       "    <tr>\n",
       "      <th>Efectivo,Transferencia interbancaria</th>\n",
       "      <td>20</td>\n",
       "    </tr>\n",
       "  </tbody>\n",
       "</table>\n",
       "</div>"
      ],
      "text/plain": [
       "                                                    frequency\n",
       "189_payment_methods                                          \n",
       "Efectivo                                                   64\n",
       "Efectivo,Tarjeta de débito y/o crédito,Transfer...         49\n",
       "Efectivo,Tarjeta de débito y/o crédito                     30\n",
       "Efectivo,Transferencia interbancaria                       20"
      ]
     },
     "execution_count": 7,
     "metadata": {},
     "output_type": "execute_result"
    }
   ],
   "source": [
    "filtro_index_frequency=filtro_index.drop(['percentage','cumulative_perc'],axis=1)\n",
    "filtro_index_frequency"
   ]
  },
  {
   "cell_type": "code",
   "execution_count": 10,
   "metadata": {},
   "outputs": [
    {
     "data": {
      "text/plain": [
       "Text(0, 0.5, 'Frecuencia')"
      ]
     },
     "execution_count": 10,
     "metadata": {},
     "output_type": "execute_result"
    },
    {
     "data": {
      "image/png": "[encoded data removed]",
      "text/plain": [
       "<Figure size 800x500 with 1 Axes>"
      ]
     },
     "metadata": {},
     "output_type": "display_data"
    }
   ],
   "source": [
    "filtro_index_frequency.plot(kind='bar',width=0.8,figsize=(8,5))\n",
    "plt.title('Método de pago')\n",
    "plt.xlabel('Método')\n",
    "plt.ylabel(\"Frecuencia\")"
   ]
  }
 ],
 "metadata": {
  "kernelspec": {
   "display_name": "Python 3",
   "language": "python",
   "name": "python3"
  },
  "language_info": {
   "codemirror_mode": {
    "name": "ipython",
    "version": 3
   },
   "file_extension": ".py",
   "mimetype": "text/x-python",
   "name": "python",
   "nbconvert_exporter": "python",
   "pygments_lexer": "ipython3",
   "version": "3.12.4"
  }
 },
 "nbformat": 4,
 "nbformat_minor": 2
}
