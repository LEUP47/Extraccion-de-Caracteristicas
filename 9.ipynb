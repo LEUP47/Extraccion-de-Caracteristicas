{
 "cells": [
  {
   "cell_type": "code",
   "execution_count": 2,
   "metadata": {},
   "outputs": [],
   "source": [
    "import funpymodeling\n",
    "import pandas as pd\n",
    "import numpy as np\n",
    "import matplotlib.pyplot as plt\n",
    "import seaborn as sns\n",
    "from funpymodeling.exploratory import freq_tbl"
   ]
  },
  {
   "cell_type": "code",
   "execution_count": 3,
   "metadata": {},
   "outputs": [],
   "source": [
    "mr2=pd.read_csv(\"mr2.csv\")"
   ]
  },
  {
   "cell_type": "code",
   "execution_count": 4,
   "metadata": {},
   "outputs": [
    {
     "data": {
      "text/html": [
       "<div>\n",
       "<style scoped>\n",
       "    .dataframe tbody tr th:only-of-type {\n",
       "        vertical-align: middle;\n",
       "    }\n",
       "\n",
       "    .dataframe tbody tr th {\n",
       "        vertical-align: top;\n",
       "    }\n",
       "\n",
       "    .dataframe thead th {\n",
       "        text-align: right;\n",
       "    }\n",
       "</style>\n",
       "<table border=\"1\" class=\"dataframe\">\n",
       "  <thead>\n",
       "    <tr style=\"text-align: right;\">\n",
       "      <th></th>\n",
       "      <th>157_frequency_organize_shelves</th>\n",
       "      <th>frequency</th>\n",
       "      <th>percentage</th>\n",
       "      <th>cumulative_perc</th>\n",
       "    </tr>\n",
       "  </thead>\n",
       "  <tbody>\n",
       "    <tr>\n",
       "      <th>0</th>\n",
       "      <td>Semanalmente</td>\n",
       "      <td>73</td>\n",
       "      <td>0.426901</td>\n",
       "      <td>0.426901</td>\n",
       "    </tr>\n",
       "    <tr>\n",
       "      <th>1</th>\n",
       "      <td>Diariamente</td>\n",
       "      <td>46</td>\n",
       "      <td>0.269006</td>\n",
       "      <td>0.695906</td>\n",
       "    </tr>\n",
       "    <tr>\n",
       "      <th>2</th>\n",
       "      <td>Mensualmente</td>\n",
       "      <td>17</td>\n",
       "      <td>0.099415</td>\n",
       "      <td>0.795322</td>\n",
       "    </tr>\n",
       "    <tr>\n",
       "      <th>3</th>\n",
       "      <td>Nunca</td>\n",
       "      <td>16</td>\n",
       "      <td>0.093567</td>\n",
       "      <td>0.888889</td>\n",
       "    </tr>\n",
       "    <tr>\n",
       "      <th>4</th>\n",
       "      <td>Quincenalmente</td>\n",
       "      <td>10</td>\n",
       "      <td>0.058480</td>\n",
       "      <td>0.947368</td>\n",
       "    </tr>\n",
       "    <tr>\n",
       "      <th>5</th>\n",
       "      <td>0</td>\n",
       "      <td>5</td>\n",
       "      <td>0.029240</td>\n",
       "      <td>0.976608</td>\n",
       "    </tr>\n",
       "    <tr>\n",
       "      <th>6</th>\n",
       "      <td>Anualmente</td>\n",
       "      <td>2</td>\n",
       "      <td>0.011696</td>\n",
       "      <td>0.988304</td>\n",
       "    </tr>\n",
       "    <tr>\n",
       "      <th>7</th>\n",
       "      <td>Semestralmente</td>\n",
       "      <td>1</td>\n",
       "      <td>0.005848</td>\n",
       "      <td>0.994152</td>\n",
       "    </tr>\n",
       "    <tr>\n",
       "      <th>8</th>\n",
       "      <td>No se tiene</td>\n",
       "      <td>1</td>\n",
       "      <td>0.005848</td>\n",
       "      <td>1.000000</td>\n",
       "    </tr>\n",
       "  </tbody>\n",
       "</table>\n",
       "</div>"
      ],
      "text/plain": [
       "  157_frequency_organize_shelves  frequency  percentage  cumulative_perc\n",
       "0                   Semanalmente         73    0.426901         0.426901\n",
       "1                    Diariamente         46    0.269006         0.695906\n",
       "2                   Mensualmente         17    0.099415         0.795322\n",
       "3                          Nunca         16    0.093567         0.888889\n",
       "4                 Quincenalmente         10    0.058480         0.947368\n",
       "5                              0          5    0.029240         0.976608\n",
       "6                     Anualmente          2    0.011696         0.988304\n",
       "7                 Semestralmente          1    0.005848         0.994152\n",
       "8                    No se tiene          1    0.005848         1.000000"
      ]
     },
     "execution_count": 4,
     "metadata": {},
     "output_type": "execute_result"
    }
   ],
   "source": [
    "table1=freq_tbl(mr2['157_frequency_organize_shelves'])\n",
    "table1"
   ]
  },
  {
   "cell_type": "code",
   "execution_count": 5,
   "metadata": {},
   "outputs": [
    {
     "data": {
      "text/html": [
       "<div>\n",
       "<style scoped>\n",
       "    .dataframe tbody tr th:only-of-type {\n",
       "        vertical-align: middle;\n",
       "    }\n",
       "\n",
       "    .dataframe tbody tr th {\n",
       "        vertical-align: top;\n",
       "    }\n",
       "\n",
       "    .dataframe thead th {\n",
       "        text-align: right;\n",
       "    }\n",
       "</style>\n",
       "<table border=\"1\" class=\"dataframe\">\n",
       "  <thead>\n",
       "    <tr style=\"text-align: right;\">\n",
       "      <th></th>\n",
       "      <th>157_frequency_organize_shelves</th>\n",
       "      <th>frequency</th>\n",
       "      <th>percentage</th>\n",
       "      <th>cumulative_perc</th>\n",
       "    </tr>\n",
       "  </thead>\n",
       "  <tbody>\n",
       "    <tr>\n",
       "      <th>0</th>\n",
       "      <td>Semanalmente</td>\n",
       "      <td>73</td>\n",
       "      <td>0.426901</td>\n",
       "      <td>0.426901</td>\n",
       "    </tr>\n",
       "    <tr>\n",
       "      <th>1</th>\n",
       "      <td>Diariamente</td>\n",
       "      <td>46</td>\n",
       "      <td>0.269006</td>\n",
       "      <td>0.695906</td>\n",
       "    </tr>\n",
       "    <tr>\n",
       "      <th>2</th>\n",
       "      <td>Mensualmente</td>\n",
       "      <td>17</td>\n",
       "      <td>0.099415</td>\n",
       "      <td>0.795322</td>\n",
       "    </tr>\n",
       "    <tr>\n",
       "      <th>3</th>\n",
       "      <td>Nunca</td>\n",
       "      <td>16</td>\n",
       "      <td>0.093567</td>\n",
       "      <td>0.888889</td>\n",
       "    </tr>\n",
       "    <tr>\n",
       "      <th>4</th>\n",
       "      <td>Quincenalmente</td>\n",
       "      <td>10</td>\n",
       "      <td>0.058480</td>\n",
       "      <td>0.947368</td>\n",
       "    </tr>\n",
       "  </tbody>\n",
       "</table>\n",
       "</div>"
      ],
      "text/plain": [
       "  157_frequency_organize_shelves  frequency  percentage  cumulative_perc\n",
       "0                   Semanalmente         73    0.426901         0.426901\n",
       "1                    Diariamente         46    0.269006         0.695906\n",
       "2                   Mensualmente         17    0.099415         0.795322\n",
       "3                          Nunca         16    0.093567         0.888889\n",
       "4                 Quincenalmente         10    0.058480         0.947368"
      ]
     },
     "execution_count": 5,
     "metadata": {},
     "output_type": "execute_result"
    }
   ],
   "source": [
    "filtro1=table1[table1['frequency']>5]\n",
    "filtro1"
   ]
  },
  {
   "cell_type": "code",
   "execution_count": 6,
   "metadata": {},
   "outputs": [
    {
     "data": {
      "text/html": [
       "<div>\n",
       "<style scoped>\n",
       "    .dataframe tbody tr th:only-of-type {\n",
       "        vertical-align: middle;\n",
       "    }\n",
       "\n",
       "    .dataframe tbody tr th {\n",
       "        vertical-align: top;\n",
       "    }\n",
       "\n",
       "    .dataframe thead th {\n",
       "        text-align: right;\n",
       "    }\n",
       "</style>\n",
       "<table border=\"1\" class=\"dataframe\">\n",
       "  <thead>\n",
       "    <tr style=\"text-align: right;\">\n",
       "      <th></th>\n",
       "      <th>frequency</th>\n",
       "      <th>percentage</th>\n",
       "      <th>cumulative_perc</th>\n",
       "    </tr>\n",
       "    <tr>\n",
       "      <th>157_frequency_organize_shelves</th>\n",
       "      <th></th>\n",
       "      <th></th>\n",
       "      <th></th>\n",
       "    </tr>\n",
       "  </thead>\n",
       "  <tbody>\n",
       "    <tr>\n",
       "      <th>Semanalmente</th>\n",
       "      <td>73</td>\n",
       "      <td>0.426901</td>\n",
       "      <td>0.426901</td>\n",
       "    </tr>\n",
       "    <tr>\n",
       "      <th>Diariamente</th>\n",
       "      <td>46</td>\n",
       "      <td>0.269006</td>\n",
       "      <td>0.695906</td>\n",
       "    </tr>\n",
       "    <tr>\n",
       "      <th>Mensualmente</th>\n",
       "      <td>17</td>\n",
       "      <td>0.099415</td>\n",
       "      <td>0.795322</td>\n",
       "    </tr>\n",
       "    <tr>\n",
       "      <th>Nunca</th>\n",
       "      <td>16</td>\n",
       "      <td>0.093567</td>\n",
       "      <td>0.888889</td>\n",
       "    </tr>\n",
       "    <tr>\n",
       "      <th>Quincenalmente</th>\n",
       "      <td>10</td>\n",
       "      <td>0.058480</td>\n",
       "      <td>0.947368</td>\n",
       "    </tr>\n",
       "  </tbody>\n",
       "</table>\n",
       "</div>"
      ],
      "text/plain": [
       "                                frequency  percentage  cumulative_perc\n",
       "157_frequency_organize_shelves                                        \n",
       "Semanalmente                           73    0.426901         0.426901\n",
       "Diariamente                            46    0.269006         0.695906\n",
       "Mensualmente                           17    0.099415         0.795322\n",
       "Nunca                                  16    0.093567         0.888889\n",
       "Quincenalmente                         10    0.058480         0.947368"
      ]
     },
     "execution_count": 6,
     "metadata": {},
     "output_type": "execute_result"
    }
   ],
   "source": [
    "filtro_index=filtro1.set_index('157_frequency_organize_shelves')\n",
    "filtro_index"
   ]
  },
  {
   "cell_type": "code",
   "execution_count": 7,
   "metadata": {},
   "outputs": [
    {
     "data": {
      "text/html": [
       "<div>\n",
       "<style scoped>\n",
       "    .dataframe tbody tr th:only-of-type {\n",
       "        vertical-align: middle;\n",
       "    }\n",
       "\n",
       "    .dataframe tbody tr th {\n",
       "        vertical-align: top;\n",
       "    }\n",
       "\n",
       "    .dataframe thead th {\n",
       "        text-align: right;\n",
       "    }\n",
       "</style>\n",
       "<table border=\"1\" class=\"dataframe\">\n",
       "  <thead>\n",
       "    <tr style=\"text-align: right;\">\n",
       "      <th></th>\n",
       "      <th>frequency</th>\n",
       "    </tr>\n",
       "    <tr>\n",
       "      <th>157_frequency_organize_shelves</th>\n",
       "      <th></th>\n",
       "    </tr>\n",
       "  </thead>\n",
       "  <tbody>\n",
       "    <tr>\n",
       "      <th>Semanalmente</th>\n",
       "      <td>73</td>\n",
       "    </tr>\n",
       "    <tr>\n",
       "      <th>Diariamente</th>\n",
       "      <td>46</td>\n",
       "    </tr>\n",
       "    <tr>\n",
       "      <th>Mensualmente</th>\n",
       "      <td>17</td>\n",
       "    </tr>\n",
       "    <tr>\n",
       "      <th>Nunca</th>\n",
       "      <td>16</td>\n",
       "    </tr>\n",
       "    <tr>\n",
       "      <th>Quincenalmente</th>\n",
       "      <td>10</td>\n",
       "    </tr>\n",
       "  </tbody>\n",
       "</table>\n",
       "</div>"
      ],
      "text/plain": [
       "                                frequency\n",
       "157_frequency_organize_shelves           \n",
       "Semanalmente                           73\n",
       "Diariamente                            46\n",
       "Mensualmente                           17\n",
       "Nunca                                  16\n",
       "Quincenalmente                         10"
      ]
     },
     "execution_count": 7,
     "metadata": {},
     "output_type": "execute_result"
    }
   ],
   "source": [
    "filtro_index_frequency=filtro_index.drop(['percentage','cumulative_perc'],axis=1)\n",
    "filtro_index_frequency"
   ]
  },
  {
   "cell_type": "code",
   "execution_count": 8,
   "metadata": {},
   "outputs": [
    {
     "data": {
      "text/plain": [
       "<Axes: ylabel='frequency'>"
      ]
     },
     "execution_count": 8,
     "metadata": {},
     "output_type": "execute_result"
    },
    {
     "data": {
      "image/png": "[encoded data removed]",
      "text/plain": [
       "<Figure size 1000x1000 with 1 Axes>"
      ]
     },
     "metadata": {},
     "output_type": "display_data"
    }
   ],
   "source": [
    "#Realizamos grafico de pastel del dataframe filtrado\n",
    "filtro_index[\"frequency\"].plot(kind='pie', figsize=(10,10), autopct=\"%0.1f%%\")"
   ]
  },
  {
   "cell_type": "code",
   "execution_count": null,
   "metadata": {},
   "outputs": [],
   "source": []
  }
 ],
 "metadata": {
  "kernelspec": {
   "display_name": "Python 3",
   "language": "python",
   "name": "python3"
  },
  "language_info": {
   "codemirror_mode": {
    "name": "ipython",
    "version": 3
   },
   "file_extension": ".py",
   "mimetype": "text/x-python",
   "name": "python",
   "nbconvert_exporter": "python",
   "pygments_lexer": "ipython3",
   "version": "3.12.4"
  }
 },
 "nbformat": 4,
 "nbformat_minor": 2
}
